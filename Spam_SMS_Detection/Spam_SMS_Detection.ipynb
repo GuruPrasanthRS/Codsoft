{
  "nbformat": 4,
  "nbformat_minor": 0,
  "metadata": {
    "colab": {
      "provenance": []
    },
    "kernelspec": {
      "name": "python3",
      "display_name": "Python 3"
    },
    "language_info": {
      "name": "python"
    }
  },
  "cells": [
    {
      "cell_type": "markdown",
      "source": [
        "# Spam SMS Detection"
      ],
      "metadata": {
        "id": "NAlcQK3oABQt"
      }
    },
    {
      "cell_type": "markdown",
      "source": [
        "## Import necessary libraries"
      ],
      "metadata": {
        "id": "jad2USXnAEpe"
      }
    },
    {
      "cell_type": "code",
      "source": [
        "import numpy as np\n",
        "import pandas as pd\n",
        "import matplotlib.pyplot as plt\n",
        "import re\n",
        "import string\n",
        "import nltk\n",
        "from sklearn.feature_extraction.text import TfidfVectorizer\n",
        "from sklearn.model_selection import train_test_split\n",
        "from sklearn.naive_bayes import MultinomialNB\n",
        "from sklearn.linear_model import LogisticRegression\n",
        "from sklearn.svm import SVC\n",
        "from sklearn.metrics import accuracy_score, classification_report"
      ],
      "metadata": {
        "id": "59RsfWGGAA1u"
      },
      "execution_count": 1,
      "outputs": []
    },
    {
      "cell_type": "markdown",
      "source": [
        "## Load dataset\n"
      ],
      "metadata": {
        "id": "QOJD2ePxANEF"
      }
    },
    {
      "cell_type": "code",
      "execution_count": 2,
      "metadata": {
        "id": "LCcl6-Wf_2Vw"
      },
      "outputs": [],
      "source": [
        "data = pd.read_csv('/content/drive/MyDrive/Codsoft dataset/Spam SMS Detection/spam.csv', encoding='ISO-8859-1')"
      ]
    },
    {
      "cell_type": "markdown",
      "source": [
        "## Selecting only relevant columns\n"
      ],
      "metadata": {
        "id": "FMyG4PYOAREt"
      }
    },
    {
      "cell_type": "code",
      "source": [
        "data = data.iloc[:, :2]\n",
        "data.columns = ['Category', 'Message']"
      ],
      "metadata": {
        "id": "lX7CnjbmAQlN"
      },
      "execution_count": 3,
      "outputs": []
    },
    {
      "cell_type": "markdown",
      "source": [
        "## Convert labels to binary values\n"
      ],
      "metadata": {
        "id": "AU9bJXTyATwF"
      }
    },
    {
      "cell_type": "code",
      "source": [
        "data['Category'] = data['Category'].map({'ham': 0, 'spam': 1})\n",
        "print(\"Dataset Columns:\", data.columns)"
      ],
      "metadata": {
        "colab": {
          "base_uri": "https://localhost:8080/"
        },
        "id": "lbUa0JVVAVOF",
        "outputId": "257e5cbf-cb98-4661-ffce-38bf17a89dc5"
      },
      "execution_count": 4,
      "outputs": [
        {
          "output_type": "stream",
          "name": "stdout",
          "text": [
            "Dataset Columns: Index(['Category', 'Message'], dtype='object')\n"
          ]
        }
      ]
    },
    {
      "cell_type": "markdown",
      "source": [
        "## Function for text preprocessing\n"
      ],
      "metadata": {
        "id": "Qt92ddzVAW4s"
      }
    },
    {
      "cell_type": "code",
      "source": [
        "def clean_text(text):\n",
        "    text = text.lower()  # Convert to lowercase\n",
        "    text = re.sub(f\"[{string.punctuation}]\", '', text)  # Remove punctuation\n",
        "    text = re.sub(r'\\d+', '', text)  # Remove numbers\n",
        "    text = re.sub(r'\\s+', ' ', text).strip()  # Remove extra spaces\n",
        "    return text"
      ],
      "metadata": {
        "id": "cVGlhpuIAY2t"
      },
      "execution_count": 5,
      "outputs": []
    },
    {
      "cell_type": "markdown",
      "source": [
        "## Apply text cleaning\n"
      ],
      "metadata": {
        "id": "0WsnOBcVAaaF"
      }
    },
    {
      "cell_type": "code",
      "source": [
        "data['Message'] = data['Message'].apply(clean_text)"
      ],
      "metadata": {
        "id": "U5k8TrL6AdEM"
      },
      "execution_count": 6,
      "outputs": []
    },
    {
      "cell_type": "markdown",
      "source": [
        "## Convert text to numerical representation\n"
      ],
      "metadata": {
        "id": "9alO_U10Aej8"
      }
    },
    {
      "cell_type": "code",
      "source": [
        "text_vectorizer = TfidfVectorizer()\n",
        "X_features = text_vectorizer.fit_transform(data['Message'])\n",
        "y_labels = data['Category']"
      ],
      "metadata": {
        "id": "uKI_3NvzAgMU"
      },
      "execution_count": 7,
      "outputs": []
    },
    {
      "cell_type": "markdown",
      "source": [
        "## Splitting data into training and testing sets\n"
      ],
      "metadata": {
        "id": "JfrgS7YRAh9l"
      }
    },
    {
      "cell_type": "code",
      "source": [
        "X_train, X_test, y_train, y_test = train_test_split(X_features, y_labels, test_size=0.2, random_state=42)"
      ],
      "metadata": {
        "id": "v6W7p09rAjIF"
      },
      "execution_count": 8,
      "outputs": []
    },
    {
      "cell_type": "markdown",
      "source": [
        "## Initializing multiple classification models\n"
      ],
      "metadata": {
        "id": "KKGdLNJoAlCN"
      }
    },
    {
      "cell_type": "code",
      "source": [
        "classifiers = {\n",
        "    'Multinomial Naive Bayes': MultinomialNB(),\n",
        "    'Logistic Regression': LogisticRegression(),\n",
        "    'Support Vector Machine': SVC(kernel='linear')\n",
        "}"
      ],
      "metadata": {
        "id": "3TPKT78dAmG8"
      },
      "execution_count": 9,
      "outputs": []
    },
    {
      "cell_type": "markdown",
      "source": [
        "## Selecting the best performing model\n"
      ],
      "metadata": {
        "id": "d35xbRf8AnhF"
      }
    },
    {
      "cell_type": "code",
      "source": [
        "optimal_model = None\n",
        "highest_accuracy = 0"
      ],
      "metadata": {
        "id": "yRgky82xAomN"
      },
      "execution_count": 10,
      "outputs": []
    },
    {
      "cell_type": "code",
      "source": [
        "for model_name, model in classifiers.items():\n",
        "    model.fit(X_train, y_train)  # Train model\n",
        "    predictions = model.predict(X_test)  # Make predictions\n",
        "    model_accuracy = accuracy_score(y_test, predictions)  # Evaluate accuracy\n",
        "    print(f\"{model_name} Accuracy: {model_accuracy:.4f}\")\n",
        "\n",
        "    if model_accuracy > highest_accuracy:\n",
        "        highest_accuracy = model_accuracy\n",
        "        optimal_model = model\n",
        "\n",
        "print(f\"Optimal Model: {optimal_model} with Accuracy: {highest_accuracy:.4f}\")"
      ],
      "metadata": {
        "colab": {
          "base_uri": "https://localhost:8080/"
        },
        "id": "KW5sGCk4ArzO",
        "outputId": "a9aea615-a29a-486f-b072-6de60664cfb9"
      },
      "execution_count": 11,
      "outputs": [
        {
          "output_type": "stream",
          "name": "stdout",
          "text": [
            "Multinomial Naive Bayes Accuracy: 0.9507\n",
            "Logistic Regression Accuracy: 0.9605\n",
            "Support Vector Machine Accuracy: 0.9785\n",
            "Optimal Model: SVC(kernel='linear') with Accuracy: 0.9785\n"
          ]
        }
      ]
    },
    {
      "cell_type": "markdown",
      "source": [
        "## Function to classify a given SMS message\n"
      ],
      "metadata": {
        "id": "DxR8Nn5_ArnN"
      }
    },
    {
      "cell_type": "code",
      "source": [
        "def classify_sms(message):\n",
        "    processed_msg = clean_text(message)  # Clean the input message\n",
        "    msg_vector = text_vectorizer.transform([processed_msg])  # Convert text to vector\n",
        "    result = optimal_model.predict(msg_vector)  # Make prediction\n",
        "    return \"Spam\" if result[0] == 1 else \"Ham\""
      ],
      "metadata": {
        "id": "YYhUA1qwAvF0"
      },
      "execution_count": 12,
      "outputs": []
    },
    {
      "cell_type": "markdown",
      "source": [
        "## User input for SMS classification\n"
      ],
      "metadata": {
        "id": "4jD9tvPGAw29"
      }
    },
    {
      "cell_type": "code",
      "source": [
        "user_sms = input(\"Enter a message to classify: \")\n",
        "print(\"Prediction:\", classify_sms(user_sms))"
      ],
      "metadata": {
        "colab": {
          "base_uri": "https://localhost:8080/"
        },
        "id": "V1PAW3MdAx8E",
        "outputId": "cf83372f-142d-4628-e5dd-1adb15469a4f"
      },
      "execution_count": 16,
      "outputs": [
        {
          "output_type": "stream",
          "name": "stdout",
          "text": [
            "Enter a message to classify: Congratulations! You have won a free iPhone. Click here to claim your prize: www.fakeoffer.com\n",
            "Prediction: Spam\n"
          ]
        }
      ]
    }
  ]
}